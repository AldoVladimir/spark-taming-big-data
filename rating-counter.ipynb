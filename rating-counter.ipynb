{
 "cells": [
  {
   "cell_type": "code",
   "execution_count": 1,
   "metadata": {},
   "outputs": [
    {
     "name": "stderr",
     "output_type": "stream",
     "text": [
      "Setting default log level to \"WARN\".\n",
      "To adjust logging level use sc.setLogLevel(newLevel). For SparkR, use setLogLevel(newLevel).\n",
      "24/10/12 18:13:24 WARN NativeCodeLoader: Unable to load native-hadoop library for your platform... using builtin-java classes where applicable\n"
     ]
    },
    {
     "data": {
      "text/plain": [
       "'\\nspark = SparkSession     .builder     .appName(\"RatingsHistogram\")     .config(\"spark.some.config.option\", \"some-value\")     .getOrCreate()\\n'"
      ]
     },
     "execution_count": 1,
     "metadata": {},
     "output_type": "execute_result"
    }
   ],
   "source": [
    "from pyspark import SparkConf, SparkContext\n",
    "from pyspark.sql import SparkSession\n",
    "import collections\n",
    "\n",
    "\n",
    "conf = SparkConf().setMaster(\"local\").setAppName(\"RatingsHistogram\")\n",
    "sc = SparkContext(conf = conf)\n",
    "\n",
    "'''\n",
    "spark = SparkSession \\\n",
    "    .builder \\\n",
    "    .appName(\"RatingsHistogram\") \\\n",
    "    .config(\"spark.some.config.option\", \"some-value\") \\\n",
    "    .getOrCreate()\n",
    "'''"
   ]
  },
  {
   "cell_type": "code",
   "execution_count": 10,
   "metadata": {},
   "outputs": [],
   "source": [
    "#lines = sc.textFile(\"file:///home/vladimir/spark_udemy/movie-ratings/ml-32m/ratings.csv\")\n",
    "#path = \"~/spark_udemy/movie-ratings/ml-32m/ratings.csv\"\n",
    "\n",
    "lines = sc.textFile(\"file:///home/vladimir/spark_udemy/movie-ratings/ml-32m/ratings.csv\")\n",
    "ratings = lines.map(lambda x: x.split(\",\")[2])\n"
   ]
  },
  {
   "cell_type": "code",
   "execution_count": 18,
   "metadata": {},
   "outputs": [
    {
     "name": "stderr",
     "output_type": "stream",
     "text": [
      "                                                                                \r"
     ]
    }
   ],
   "source": [
    "result = ratings.countByValue()\n",
    "sortedResults = collections.OrderedDict(sorted(result.items()))"
   ]
  },
  {
   "cell_type": "code",
   "execution_count": 19,
   "metadata": {},
   "outputs": [
    {
     "name": "stdout",
     "output_type": "stream",
     "text": [
      "0.5 525132\n",
      "1.0 946675\n",
      "1.5 531063\n",
      "2.0 2028622\n",
      "2.5 1685386\n",
      "3.0 6054990\n",
      "3.5 4290105\n",
      "4.0 8367654\n",
      "4.5 2974000\n",
      "5.0 4596577\n",
      "rating 1\n"
     ]
    }
   ],
   "source": [
    "for key, value in sortedResults.items():\n",
    "    print(f\"{key} {value}\")"
   ]
  }
 ],
 "metadata": {
  "kernelspec": {
   "display_name": "spark",
   "language": "python",
   "name": "python3"
  },
  "language_info": {
   "codemirror_mode": {
    "name": "ipython",
    "version": 3
   },
   "file_extension": ".py",
   "mimetype": "text/x-python",
   "name": "python",
   "nbconvert_exporter": "python",
   "pygments_lexer": "ipython3",
   "version": "3.12.7"
  }
 },
 "nbformat": 4,
 "nbformat_minor": 2
}
