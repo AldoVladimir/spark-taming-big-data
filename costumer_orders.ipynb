{
 "cells": [
  {
   "cell_type": "code",
   "execution_count": 3,
   "metadata": {},
   "outputs": [
    {
     "name": "stderr",
     "output_type": "stream",
     "text": [
      "Setting default log level to \"WARN\".\n",
      "To adjust logging level use sc.setLogLevel(newLevel). For SparkR, use setLogLevel(newLevel).\n",
      "24/10/13 15:50:17 WARN NativeCodeLoader: Unable to load native-hadoop library for your platform... using builtin-java classes where applicable\n"
     ]
    }
   ],
   "source": [
    "from pyspark import SparkContext, SparkConf\n",
    "\n",
    "conf = SparkConf().setMaster(\"local\").setAppName(\"Costumer_orders\")\n",
    "sc = SparkContext(conf = conf)"
   ]
  },
  {
   "cell_type": "code",
   "execution_count": 8,
   "metadata": {},
   "outputs": [],
   "source": [
    "def parser(lines):\n",
    "    transactions = lines.split(\",\")\n",
    "    costumer = int(transactions[0])\n",
    "    spent_ammount = float(transactions[2])    \n",
    "    return (costumer,spent_ammount)\n",
    "\n",
    "\n",
    "lines = sc.textFile(\"/home/vladimir/spark_udemy/costumer-orders/customer-orders.csv\")\n",
    "orders = lines.map(parser)\n",
    "ammounts = orders.reduceByKey(lambda x,y: x+y)\n",
    "results = ammounts.collect()"
   ]
  },
  {
   "cell_type": "code",
   "execution_count": 9,
   "metadata": {},
   "outputs": [
    {
     "name": "stdout",
     "output_type": "stream",
     "text": [
      "Costumer: 44 spent USD4756.8899999999985\n",
      "Costumer: 35 spent USD5155.419999999999\n",
      "Costumer: 2 spent USD5994.59\n",
      "Costumer: 47 spent USD4316.299999999999\n",
      "Costumer: 29 spent USD5032.529999999999\n",
      "Costumer: 91 spent USD4642.259999999999\n",
      "Costumer: 70 spent USD5368.249999999999\n",
      "Costumer: 85 spent USD5503.43\n",
      "Costumer: 53 spent USD4945.299999999999\n",
      "Costumer: 14 spent USD4735.030000000001\n",
      "Costumer: 51 spent USD4975.22\n",
      "Costumer: 42 spent USD5696.840000000003\n",
      "Costumer: 79 spent USD3790.570000000001\n",
      "Costumer: 50 spent USD4517.27\n",
      "Costumer: 20 spent USD4836.859999999999\n",
      "Costumer: 15 spent USD5413.510000000001\n",
      "Costumer: 5 spent USD4561.069999999999\n",
      "Costumer: 48 spent USD4384.33\n",
      "Costumer: 31 spent USD4765.05\n",
      "Costumer: 4 spent USD4815.050000000002\n",
      "Costumer: 36 spent USD4278.049999999997\n",
      "Costumer: 57 spent USD4628.4\n",
      "Costumer: 12 spent USD4664.589999999998\n",
      "Costumer: 22 spent USD5019.449999999999\n",
      "Costumer: 54 spent USD6065.389999999999\n",
      "Costumer: 0 spent USD5524.949999999998\n",
      "Costumer: 88 spent USD4830.549999999999\n",
      "Costumer: 86 spent USD4908.81\n",
      "Costumer: 13 spent USD4367.62\n",
      "Costumer: 40 spent USD5186.429999999999\n",
      "Costumer: 98 spent USD4297.260000000001\n",
      "Costumer: 55 spent USD5298.090000000002\n",
      "Costumer: 95 spent USD4876.840000000002\n",
      "Costumer: 61 spent USD5497.479999999998\n",
      "Costumer: 27 spent USD4915.889999999999\n",
      "Costumer: 78 spent USD4524.509999999999\n",
      "Costumer: 83 spent USD4635.799999999997\n",
      "Costumer: 6 spent USD5397.879999999998\n",
      "Costumer: 26 spent USD5250.4\n",
      "Costumer: 75 spent USD4178.500000000001\n",
      "Costumer: 25 spent USD5057.610000000001\n",
      "Costumer: 71 spent USD5995.660000000003\n",
      "Costumer: 39 spent USD6193.109999999999\n",
      "Costumer: 60 spent USD5040.709999999999\n",
      "Costumer: 97 spent USD5977.189999999995\n",
      "Costumer: 7 spent USD4755.070000000001\n",
      "Costumer: 21 spent USD4707.41\n",
      "Costumer: 69 spent USD5123.010000000001\n",
      "Costumer: 37 spent USD4735.200000000002\n",
      "Costumer: 1 spent USD4958.600000000001\n",
      "Costumer: 64 spent USD5288.689999999996\n",
      "Costumer: 82 spent USD4812.489999999998\n",
      "Costumer: 72 spent USD5337.44\n",
      "Costumer: 99 spent USD4172.289999999998\n",
      "Costumer: 34 spent USD5330.8\n",
      "Costumer: 73 spent USD6206.199999999999\n",
      "Costumer: 49 spent USD4394.599999999999\n",
      "Costumer: 8 spent USD5517.240000000001\n",
      "Costumer: 46 spent USD5963.109999999999\n",
      "Costumer: 23 spent USD4042.6499999999987\n",
      "Costumer: 19 spent USD5059.4299999999985\n",
      "Costumer: 65 spent USD5140.3499999999985\n",
      "Costumer: 80 spent USD4727.860000000001\n",
      "Costumer: 16 spent USD4979.06\n",
      "Costumer: 9 spent USD5322.649999999999\n",
      "Costumer: 18 spent USD4921.27\n",
      "Costumer: 59 spent USD5642.89\n",
      "Costumer: 74 spent USD4647.129999999999\n",
      "Costumer: 30 spent USD4990.72\n",
      "Costumer: 56 spent USD4701.019999999999\n",
      "Costumer: 90 spent USD5290.409999999998\n",
      "Costumer: 68 spent USD6375.449999999997\n",
      "Costumer: 11 spent USD5152.290000000002\n",
      "Costumer: 10 spent USD4819.700000000001\n",
      "Costumer: 41 spent USD5637.62\n",
      "Costumer: 58 spent USD5437.7300000000005\n",
      "Costumer: 87 spent USD5206.4\n",
      "Costumer: 17 spent USD5032.679999999999\n",
      "Costumer: 33 spent USD5254.659999999998\n",
      "Costumer: 62 spent USD5253.3200000000015\n",
      "Costumer: 92 spent USD5379.280000000002\n",
      "Costumer: 76 spent USD4904.209999999999\n",
      "Costumer: 66 spent USD4681.919999999999\n",
      "Costumer: 43 spent USD5368.83\n",
      "Costumer: 52 spent USD5245.059999999999\n",
      "Costumer: 77 spent USD4327.729999999999\n",
      "Costumer: 81 spent USD5112.709999999999\n",
      "Costumer: 84 spent USD4652.939999999999\n",
      "Costumer: 3 spent USD4659.63\n",
      "Costumer: 93 spent USD5265.750000000001\n",
      "Costumer: 89 spent USD4851.479999999999\n",
      "Costumer: 45 spent USD3309.38\n",
      "Costumer: 24 spent USD5259.920000000003\n",
      "Costumer: 96 spent USD3924.230000000001\n",
      "Costumer: 67 spent USD4505.79\n",
      "Costumer: 63 spent USD5415.150000000001\n",
      "Costumer: 94 spent USD4475.569999999999\n",
      "Costumer: 32 spent USD5496.050000000004\n",
      "Costumer: 38 spent USD4898.460000000002\n",
      "Costumer: 28 spent USD5000.709999999998\n",
      "[(44, 4756.8899999999985), (35, 5155.419999999999), (2, 5994.59), (47, 4316.299999999999), (29, 5032.529999999999), (91, 4642.259999999999), (70, 5368.249999999999), (85, 5503.43), (53, 4945.299999999999), (14, 4735.030000000001), (51, 4975.22), (42, 5696.840000000003), (79, 3790.570000000001), (50, 4517.27), (20, 4836.859999999999), (15, 5413.510000000001), (5, 4561.069999999999), (48, 4384.33), (31, 4765.05), (4, 4815.050000000002), (36, 4278.049999999997), (57, 4628.4), (12, 4664.589999999998), (22, 5019.449999999999), (54, 6065.389999999999), (0, 5524.949999999998), (88, 4830.549999999999), (86, 4908.81), (13, 4367.62), (40, 5186.429999999999), (98, 4297.260000000001), (55, 5298.090000000002), (95, 4876.840000000002), (61, 5497.479999999998), (27, 4915.889999999999), (78, 4524.509999999999), (83, 4635.799999999997), (6, 5397.879999999998), (26, 5250.4), (75, 4178.500000000001), (25, 5057.610000000001), (71, 5995.660000000003), (39, 6193.109999999999), (60, 5040.709999999999), (97, 5977.189999999995), (7, 4755.070000000001), (21, 4707.41), (69, 5123.010000000001), (37, 4735.200000000002), (1, 4958.600000000001), (64, 5288.689999999996), (82, 4812.489999999998), (72, 5337.44), (99, 4172.289999999998), (34, 5330.8), (73, 6206.199999999999), (49, 4394.599999999999), (8, 5517.240000000001), (46, 5963.109999999999), (23, 4042.6499999999987), (19, 5059.4299999999985), (65, 5140.3499999999985), (80, 4727.860000000001), (16, 4979.06), (9, 5322.649999999999), (18, 4921.27), (59, 5642.89), (74, 4647.129999999999), (30, 4990.72), (56, 4701.019999999999), (90, 5290.409999999998), (68, 6375.449999999997), (11, 5152.290000000002), (10, 4819.700000000001), (41, 5637.62), (58, 5437.7300000000005), (87, 5206.4), (17, 5032.679999999999), (33, 5254.659999999998), (62, 5253.3200000000015), (92, 5379.280000000002), (76, 4904.209999999999), (66, 4681.919999999999), (43, 5368.83), (52, 5245.059999999999), (77, 4327.729999999999), (81, 5112.709999999999), (84, 4652.939999999999), (3, 4659.63), (93, 5265.750000000001), (89, 4851.479999999999), (45, 3309.38), (24, 5259.920000000003), (96, 3924.230000000001), (67, 4505.79), (63, 5415.150000000001), (94, 4475.569999999999), (32, 5496.050000000004), (38, 4898.460000000002), (28, 5000.709999999998)]\n"
     ]
    }
   ],
   "source": [
    "for result in results:\n",
    "    print(f\"Costumer: {result[0]} spent USD{result[1]}\")\n",
    "print(results)"
   ]
  }
 ],
 "metadata": {
  "kernelspec": {
   "display_name": "spark",
   "language": "python",
   "name": "python3"
  },
  "language_info": {
   "codemirror_mode": {
    "name": "ipython",
    "version": 3
   },
   "file_extension": ".py",
   "mimetype": "text/x-python",
   "name": "python",
   "nbconvert_exporter": "python",
   "pygments_lexer": "ipython3",
   "version": "3.12.7"
  }
 },
 "nbformat": 4,
 "nbformat_minor": 2
}
