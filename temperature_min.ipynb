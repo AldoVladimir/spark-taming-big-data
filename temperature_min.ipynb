{
 "cells": [
  {
   "cell_type": "code",
   "execution_count": 1,
   "metadata": {},
   "outputs": [
    {
     "name": "stderr",
     "output_type": "stream",
     "text": [
      "Setting default log level to \"WARN\".\n",
      "To adjust logging level use sc.setLogLevel(newLevel). For SparkR, use setLogLevel(newLevel).\n",
      "24/10/12 20:22:27 WARN NativeCodeLoader: Unable to load native-hadoop library for your platform... using builtin-java classes where applicable\n",
      "24/10/12 20:22:28 WARN Utils: Service 'SparkUI' could not bind on port 4040. Attempting port 4041.\n",
      "24/10/12 20:22:28 WARN Utils: Service 'SparkUI' could not bind on port 4041. Attempting port 4042.\n"
     ]
    }
   ],
   "source": [
    "from pyspark import SparkConf, SparkContext\n",
    "\n",
    "conf = SparkConf().setMaster(\"local\").setAppName(\"Temperature\")\n",
    "sc = SparkContext(conf = conf)\n",
    "\n",
    "def parse_line(line):\n",
    "    fields = line.split(\",\")\n",
    "    station_id = fields[0]\n",
    "    entry_type = fields[2]\n",
    "    temperature = float(fields[3])*0.1*(9.0/5.0) + 32\n",
    "    return (station_id,entry_type,temperature)"
   ]
  },
  {
   "cell_type": "code",
   "execution_count": 8,
   "metadata": {},
   "outputs": [
    {
     "name": "stderr",
     "output_type": "stream",
     "text": [
      "                                                                                \r"
     ]
    }
   ],
   "source": [
    "lines = sc.textFile(\"file:////home/vladimir/spark_udemy/temperature-data/1800.csv\")\n",
    "parsed_lines = lines.map(parse_line)\n",
    "min_temps = parsed_lines.filter(lambda x:\"TMIN\" in x[1])\n",
    "station_temps = min_temps.map(lambda x:(x[0],x[2]))\n",
    "min_temps = station_temps.reduceByKey(lambda x,y: min(x,y))\n",
    "results = min_temps.collect()"
   ]
  },
  {
   "cell_type": "code",
   "execution_count": 9,
   "metadata": {},
   "outputs": [
    {
     "name": "stdout",
     "output_type": "stream",
     "text": [
      "ITE00100554 5.359999999999999\n",
      "EZE00100082 7.699999999999999\n"
     ]
    }
   ],
   "source": [
    "\n",
    "for result in results:\n",
    "    print(f\"{result[0]} {result[1]}\")"
   ]
  }
 ],
 "metadata": {
  "kernelspec": {
   "display_name": "spark",
   "language": "python",
   "name": "python3"
  },
  "language_info": {
   "codemirror_mode": {
    "name": "ipython",
    "version": 3
   },
   "file_extension": ".py",
   "mimetype": "text/x-python",
   "name": "python",
   "nbconvert_exporter": "python",
   "pygments_lexer": "ipython3",
   "version": "3.12.7"
  }
 },
 "nbformat": 4,
 "nbformat_minor": 2
}
