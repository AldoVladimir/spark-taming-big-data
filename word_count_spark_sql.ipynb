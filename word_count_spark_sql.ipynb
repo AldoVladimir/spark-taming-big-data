{
 "cells": [
  {
   "cell_type": "code",
   "execution_count": 2,
   "metadata": {},
   "outputs": [
    {
     "name": "stderr",
     "output_type": "stream",
     "text": [
      "Setting default log level to \"WARN\".\n",
      "To adjust logging level use sc.setLogLevel(newLevel). For SparkR, use setLogLevel(newLevel).\n",
      "24/10/14 09:29:44 WARN NativeCodeLoader: Unable to load native-hadoop library for your platform... using builtin-java classes where applicable\n"
     ]
    }
   ],
   "source": [
    "from pyspark.sql import SparkSession\n",
    "from pyspark.sql import Row\n",
    "from pyspark.sql import functions as func\n",
    "\n",
    "spark = SparkSession.builder.appName(\"WordCount\").getOrCreate()\n"
   ]
  },
  {
   "cell_type": "code",
   "execution_count": 3,
   "metadata": {},
   "outputs": [],
   "source": [
    "input_df = spark.read.text(\"file:////home/vladimir/spark_udemy/book/Book\")\n"
   ]
  },
  {
   "cell_type": "code",
   "execution_count": 4,
   "metadata": {},
   "outputs": [
    {
     "name": "stdout",
     "output_type": "stream",
     "text": [
      "+--------------------+\n",
      "|               value|\n",
      "+--------------------+\n",
      "|Self-Employment: ...|\n",
      "|Achieving Financi...|\n",
      "|       By Frank Kane|\n",
      "|                    |\n",
      "|                    |\n",
      "|                    |\n",
      "|Copyright � 2015 ...|\n",
      "|All rights reserv...|\n",
      "|                    |\n",
      "|                    |\n",
      "|            CONTENTS|\n",
      "|          Disclaimer|\n",
      "|             Preface|\n",
      "|Part I: Making th...|\n",
      "|  Overcoming Inertia|\n",
      "|     Fear of Failure|\n",
      "|Career Indoctrina...|\n",
      "|The Carrot on a S...|\n",
      "|      Ego Protection|\n",
      "|Your Employer as ...|\n",
      "+--------------------+\n",
      "only showing top 20 rows\n",
      "\n"
     ]
    }
   ],
   "source": [
    "input_df.show()"
   ]
  },
  {
   "cell_type": "code",
   "execution_count": 9,
   "metadata": {},
   "outputs": [
    {
     "name": "stdout",
     "output_type": "stream",
     "text": [
      "+--------------------+\n",
      "|                word|\n",
      "+--------------------+\n",
      "|[Self, Employment...|\n",
      "|[Achieving, Finan...|\n",
      "|   [By, Frank, Kane]|\n",
      "|                  []|\n",
      "|                  []|\n",
      "|                  []|\n",
      "|[Copyright, 2015,...|\n",
      "|[All, rights, res...|\n",
      "|                  []|\n",
      "|                  []|\n",
      "|          [CONTENTS]|\n",
      "|        [Disclaimer]|\n",
      "|           [Preface]|\n",
      "|[Part, I, Making,...|\n",
      "|[Overcoming, Iner...|\n",
      "| [Fear, of, Failure]|\n",
      "|[Career, Indoctri...|\n",
      "|[The, Carrot, on,...|\n",
      "|   [Ego, Protection]|\n",
      "|[Your, Employer, ...|\n",
      "+--------------------+\n",
      "only showing top 20 rows\n",
      "\n"
     ]
    }
   ],
   "source": [
    "input_df.select((func.split(input_df.value, \"\\\\W+\")).alias(\"word\")).show()"
   ]
  },
  {
   "cell_type": "code",
   "execution_count": 20,
   "metadata": {},
   "outputs": [],
   "source": [
    "words = input_df.select((func.explode(func.split(input_df.value, \"\\\\W+\"))).alias(\"word\"))\n",
    "words = words.select(func.lower(words.word).alias(\"word\"))\n",
    "words = words.filter(words.word != \"\")"
   ]
  },
  {
   "cell_type": "code",
   "execution_count": 21,
   "metadata": {},
   "outputs": [
    {
     "name": "stdout",
     "output_type": "stream",
     "text": [
      "+----------+\n",
      "|      word|\n",
      "+----------+\n",
      "|      self|\n",
      "|employment|\n",
      "|  building|\n",
      "|        an|\n",
      "|  internet|\n",
      "|  business|\n",
      "|        of|\n",
      "|       one|\n",
      "| achieving|\n",
      "| financial|\n",
      "|       and|\n",
      "|  personal|\n",
      "|   freedom|\n",
      "|   through|\n",
      "|         a|\n",
      "| lifestyle|\n",
      "|technology|\n",
      "|  business|\n",
      "|        by|\n",
      "|     frank|\n",
      "+----------+\n",
      "only showing top 20 rows\n",
      "\n"
     ]
    }
   ],
   "source": [
    "words.show()"
   ]
  },
  {
   "cell_type": "code",
   "execution_count": 22,
   "metadata": {},
   "outputs": [
    {
     "name": "stdout",
     "output_type": "stream",
     "text": [
      "+--------+----------+\n",
      "|    word|word_count|\n",
      "+--------+----------+\n",
      "|     you|      1878|\n",
      "|      to|      1828|\n",
      "|    your|      1420|\n",
      "|     the|      1292|\n",
      "|       a|      1191|\n",
      "|      of|       970|\n",
      "|     and|       934|\n",
      "|    that|       747|\n",
      "|      it|       649|\n",
      "|      in|       616|\n",
      "|      is|       560|\n",
      "|     for|       537|\n",
      "|      on|       428|\n",
      "|     are|       424|\n",
      "|      if|       411|\n",
      "|       s|       391|\n",
      "|       i|       387|\n",
      "|business|       383|\n",
      "|     can|       376|\n",
      "|      be|       369|\n",
      "+--------+----------+\n",
      "only showing top 20 rows\n",
      "\n"
     ]
    }
   ],
   "source": [
    "words.groupBy(\"word\").agg(func.count(\"word\").alias(\"word_count\")).sort(func.desc(\"word_count\")).show()"
   ]
  }
 ],
 "metadata": {
  "kernelspec": {
   "display_name": "spark",
   "language": "python",
   "name": "python3"
  },
  "language_info": {
   "codemirror_mode": {
    "name": "ipython",
    "version": 3
   },
   "file_extension": ".py",
   "mimetype": "text/x-python",
   "name": "python",
   "nbconvert_exporter": "python",
   "pygments_lexer": "ipython3",
   "version": "3.12.7"
  }
 },
 "nbformat": 4,
 "nbformat_minor": 2
}
